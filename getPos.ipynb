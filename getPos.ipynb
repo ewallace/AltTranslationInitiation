{
 "cells": [
  {
   "cell_type": "code",
   "execution_count": 1,
   "metadata": {},
   "outputs": [],
   "source": [
    "import Bio # That's biopython \n",
    "from Bio import SeqIO # To read the sequences from the fasta files \n",
    "from Bio.Seq import Seq # To work with sequences as an object \n",
    "from Bio.SeqRecord import SeqRecord\n",
    "from Bio import motifs # motif library\n",
    "from Bio.Alphabet import IUPAC\n",
    "# Pandas' data structure libraries\n",
    "import pandas as pd \n",
    "import numpy as np\n",
    "import pdb\n",
    "from math import isclose"
   ]
  },
  {
   "cell_type": "code",
   "execution_count": 2,
   "metadata": {},
   "outputs": [
    {
     "name": "stdout",
     "output_type": "stream",
     "text": [
      "ATGCCTATG\n",
      "ATGCCCCCCC\n",
      "ATGCCCCCCGATG\n",
      "TATGATGTAGTATAATATAATTATAA\n",
      "CAAACAAAATG\n",
      "GGGGGTTTTCT\n"
     ]
    }
   ],
   "source": [
    "#  test sequences  \n",
    "Seq1 = Seq(\"ATGCCTATG\", IUPAC.IUPACUnambiguousDNA())  \n",
    "print (Seq1)\n",
    "Seq2 = Seq(\"ATGCCCCCCC\", IUPAC.IUPACUnambiguousDNA())\n",
    "print (Seq2)\n",
    "Seq3 = Seq(\"ATGCCCCCCGATG\", IUPAC.IUPACUnambiguousDNA()) \n",
    "print (Seq3)\n",
    "test_seq = Seq(\"TATGATGTAGTATAATATAATTATAA\", IUPAC.IUPACUnambiguousDNA())\n",
    "print (test_seq)\n",
    "test_Kozak = Seq(\"CAAACAAAATG\", IUPAC.IUPACUnambiguousDNA())\n",
    "print (test_Kozak)\n",
    "test_antiKozak = Seq(\"GGGGGTTTTCT\", IUPAC.IUPACUnambiguousDNA())\n",
    "print (test_antiKozak)"
   ]
  },
  {
   "cell_type": "code",
   "execution_count": 5,
   "metadata": {},
   "outputs": [
    {
     "name": "stdout",
     "output_type": "stream",
     "text": [
      "ATG\n",
      "\n"
     ]
    }
   ],
   "source": [
    "# Create a new object motif \"ATG\"\n",
    "motifATG = motifs.create( [ Seq(\"ATG\") ] )\n",
    "print(motifATG)"
   ]
  },
  {
   "cell_type": "code",
   "execution_count": 4,
   "metadata": {},
   "outputs": [
    {
     "name": "stdout",
     "output_type": "stream",
     "text": [
      "TF name\tNone\n",
      "Matrix ID\tNone\n",
      "Matrix:\n",
      "        0      1      2      3      4      5      6      7      8      9     10\n",
      "A:  60.00  90.00  70.00  80.00  80.00 160.00 110.00 110.00 200.00   0.00   0.00\n",
      "C:  70.00  60.00  50.00  50.00 100.00  10.00  60.00  60.00   0.00   0.00   0.00\n",
      "G:  10.00  10.00  30.00  20.00   5.00  25.00  15.00  15.00   0.00   0.00 200.00\n",
      "T:  60.00  40.00  50.00  50.00  15.00   5.00  15.00  15.00   0.00 200.00   0.00\n",
      "\n",
      "\n",
      "\n"
     ]
    }
   ],
   "source": [
    "#Create a new motif using kozak PFM distribution backround \n",
    "with open(\"PWMs/Kozak_PFM.txt\") as handle: \n",
    "        KozakMotif = motifs.read(handle, 'pfm')\n",
    "\n",
    "print (KozakMotif)"
   ]
  },
  {
   "cell_type": "code",
   "execution_count": 6,
   "metadata": {},
   "outputs": [
    {
     "name": "stdout",
     "output_type": "stream",
     "text": [
      "        0      1      2      3      4      5      6      7      8      9     10\n",
      "A:   0.30   0.45   0.35   0.40   0.40   0.79   0.55   0.55   0.99   0.00   0.00\n",
      "C:   0.35   0.30   0.25   0.25   0.50   0.05   0.30   0.30   0.00   0.00   0.00\n",
      "G:   0.05   0.05   0.15   0.10   0.03   0.13   0.08   0.08   0.00   0.00   0.99\n",
      "T:   0.30   0.20   0.25   0.25   0.08   0.03   0.08   0.08   0.00   0.99   0.00\n",
      "\n"
     ]
    }
   ],
   "source": [
    "# From KozakMotif to PWM matrix for motif, pseudocounts = ?  \n",
    "pwmKozak = KozakMotif.counts.normalize(pseudocounts=0.5)\n",
    "print(pwmKozak)"
   ]
  },
  {
   "cell_type": "code",
   "execution_count": 7,
   "metadata": {},
   "outputs": [
    {
     "name": "stdout",
     "output_type": "stream",
     "text": [
      "        0      1      2      3      4      5      6      7      8      9     10\n",
      "A:   0.26   0.84   0.48   0.67   0.67   1.67   1.13   1.13   1.99  -6.66  -6.66\n",
      "C:   0.48   0.26   0.00   0.00   0.99  -2.27   0.26   0.26  -6.66  -6.66  -6.66\n",
      "G:  -2.27  -2.27  -0.73  -1.30  -3.20  -0.99  -1.70  -1.70  -6.66  -6.66   1.99\n",
      "T:   0.26  -0.32   0.00   0.00  -1.70  -3.20  -1.70  -1.70  -6.66   1.99  -6.66\n",
      "\n"
     ]
    }
   ],
   "source": [
    "# From PWM matrix  to pssm matrix for Motif using log_odds \n",
    "pssmKozak = pwmKozak.log_odds()\n",
    "print (pssmKozak)"
   ]
  },
  {
   "cell_type": "code",
   "execution_count": 8,
   "metadata": {},
   "outputs": [],
   "source": [
    "def get_pos_frame (sequenceID, sequence, motif):\n",
    "    # Calculate for a given sequence the ATGs, their position and frames \n",
    "    index = 0\n",
    "    position = 0\n",
    "    frame = 0\n",
    "    score = 0\n",
    "    sequence.alphabet = IUPAC.unambiguous_dna\n",
    "    df = pd.DataFrame(columns = ['Sequence','ATGNumber','Position','Frame'])\n",
    "    for pos, seq in  motif.instances.search(sequence):\n",
    "        index = index + 1 \n",
    "        ATGNumber = index\n",
    "        position = pos\n",
    "        frame = pos % 3\n",
    "        #import pdb; pdb.set_trace()\n",
    "        df = df.append({'Sequence': sequenceID,\n",
    "                'ATGNumber':ATGNumber,\n",
    "                'Position':position,\n",
    "                'Frame':frame}, ignore_index=True)\n",
    "    return (df)"
   ]
  },
  {
   "cell_type": "code",
   "execution_count": 9,
   "metadata": {},
   "outputs": [
    {
     "name": "stdout",
     "output_type": "stream",
     "text": [
      "  Sequence ATGNumber Position Frame\n",
      "0     Seq1         1        0     0\n",
      "1     Seq1         2        6     0\n",
      "  Sequence ATGNumber Position Frame\n",
      "0     Seq2         1        0     0\n",
      "  Sequence ATGNumber Position Frame\n",
      "0     Seq3         1        0     0\n",
      "1     Seq3         2       10     1\n",
      "   Sequence ATGNumber Position Frame\n",
      "0  test_seq         1        1     1\n",
      "1  test_seq         2        4     1\n"
     ]
    }
   ],
   "source": [
    "# test get_pos_frame with one sequence at a time\n",
    "print (get_pos_frame(\"Seq1\",Seq1,motifATG))\n",
    "print (get_pos_frame(\"Seq2\",Seq2,motifATG))\n",
    "print (get_pos_frame(\"Seq3\",Seq3,motifATG))\n",
    "print (get_pos_frame(\"test_seq\",test_seq,motifATG))"
   ]
  },
  {
   "cell_type": "code",
   "execution_count": 10,
   "metadata": {},
   "outputs": [],
   "source": [
    "# The function OutputPosFrame takes a Fasta file containing sequences and writes a txt file containing the position of the \n",
    "#alternative translation initiation and the frame  \n",
    "def output_pos_frame (input_file, output_file, motif=motifATG): \n",
    "    dfresult = pd.DataFrame(columns = ['Sequence','ATGNumber','Position','Frame'])\n",
    "    for seq_record in SeqIO.parse(input_file, \"fasta\"):\n",
    "        dfbit = get_pos_frame(seq_record.id, seq_record.seq, motif)\n",
    "        dfresult = dfresult.append(dfbit, ignore_index = True)\n",
    "    dfresult.to_csv (output_file, encoding ='utf-8', index = False)\n",
    "    return ( dfresult )"
   ]
  },
  {
   "cell_type": "code",
   "execution_count": 11,
   "metadata": {},
   "outputs": [
    {
     "name": "stdout",
     "output_type": "stream",
     "text": [
      "[0.3798483  0.4352925  0.15832752 0.553093   0.29560044 0.33615193\n",
      " 0.59644955 0.33142576 0.6381159  0.3224843  0.47655964 0.68698126\n",
      " 0.52971977 0.35268602 0.66425353 0.30258524]\n",
      "1.0000000052353402\n",
      "2.3204725370384962e-08\n"
     ]
    }
   ],
   "source": [
    "# Normalized score function returns value between 0 and 1, like Bioconductor\n",
    "def calc_norm_score (pssm, seq) :\n",
    "    #import pdb; pdb.set_trace()\n",
    "    raw_score = pssm.calculate(seq)\n",
    "    score = ( raw_score - pssm.min ) / (pssm.max - pssm.min)\n",
    "    return ( score )\n",
    "\n",
    "print (calc_norm_score( pssmKozak, test_seq )) # should be an array of numbers between 0 and 1\n",
    "print (calc_norm_score( pssmKozak, test_Kozak )) # should be 1\n",
    "print (calc_norm_score( pssmKozak, test_antiKozak )) # should be 0"
   ]
  },
  {
   "cell_type": "code",
   "execution_count": 12,
   "metadata": {},
   "outputs": [
    {
     "name": "stdout",
     "output_type": "stream",
     "text": [
      "    Sequence Position       Score\n",
      "0   test_seq        0   0.3798483\n",
      "1   test_seq        1   0.4352925\n",
      "2   test_seq        2  0.15832752\n",
      "3   test_seq        3    0.553093\n",
      "4   test_seq        4  0.29560044\n",
      "5   test_seq        5  0.33615193\n",
      "6   test_seq        6  0.59644955\n",
      "7   test_seq        7  0.33142576\n",
      "8   test_seq        8   0.6381159\n",
      "9   test_seq        9   0.3224843\n",
      "10  test_seq       10  0.47655964\n",
      "11  test_seq       11  0.68698126\n",
      "12  test_seq       12  0.52971977\n",
      "13  test_seq       13  0.35268602\n",
      "14  test_seq       14  0.66425353\n",
      "15  test_seq       15  0.30258524\n"
     ]
    }
   ],
   "source": [
    "# Calculate the score for each position with the test sequece \n",
    "s = calc_norm_score( pssmKozak, test_seq )\n",
    "df = pd.DataFrame(columns = ['Sequence', 'Position','Score'])\n",
    "position = 0\n",
    "for x in np.nditer(s):\n",
    "    df = df.append({'Sequence': \"test_seq\", \n",
    "                    'Position': position,\n",
    "                    'Score': x}, ignore_index=True)\n",
    "    position = position + 1 \n",
    "print (df)"
   ]
  },
  {
   "cell_type": "code",
   "execution_count": 13,
   "metadata": {},
   "outputs": [],
   "source": [
    "# Function to calculate the score for each position with the test sequece \n",
    "def get_motif_score (sequenceID, sequence, motif):\n",
    "    s = calc_norm_score( pssmKozak, test_seq )\n",
    "    df = pd.DataFrame(columns = ['Sequence', 'Position','Score'])\n",
    "    position = 0\n",
    "    for x in np.nditer(s):\n",
    "        df = df.append({'Sequence': \"test_seq\", \n",
    "                    'Position': position,\n",
    "                    'Score': x}, ignore_index=True)\n",
    "        position = position + 1 \n",
    "    return (df)"
   ]
  },
  {
   "cell_type": "code",
   "execution_count": 14,
   "metadata": {},
   "outputs": [
    {
     "data": {
      "text/html": [
       "<div>\n",
       "<style scoped>\n",
       "    .dataframe tbody tr th:only-of-type {\n",
       "        vertical-align: middle;\n",
       "    }\n",
       "\n",
       "    .dataframe tbody tr th {\n",
       "        vertical-align: top;\n",
       "    }\n",
       "\n",
       "    .dataframe thead th {\n",
       "        text-align: right;\n",
       "    }\n",
       "</style>\n",
       "<table border=\"1\" class=\"dataframe\">\n",
       "  <thead>\n",
       "    <tr style=\"text-align: right;\">\n",
       "      <th></th>\n",
       "      <th>Sequence</th>\n",
       "      <th>Position</th>\n",
       "      <th>Score</th>\n",
       "    </tr>\n",
       "  </thead>\n",
       "  <tbody>\n",
       "    <tr>\n",
       "      <th>0</th>\n",
       "      <td>test_seq</td>\n",
       "      <td>0</td>\n",
       "      <td>0.3798483</td>\n",
       "    </tr>\n",
       "    <tr>\n",
       "      <th>1</th>\n",
       "      <td>test_seq</td>\n",
       "      <td>1</td>\n",
       "      <td>0.4352925</td>\n",
       "    </tr>\n",
       "    <tr>\n",
       "      <th>2</th>\n",
       "      <td>test_seq</td>\n",
       "      <td>2</td>\n",
       "      <td>0.15832752</td>\n",
       "    </tr>\n",
       "    <tr>\n",
       "      <th>3</th>\n",
       "      <td>test_seq</td>\n",
       "      <td>3</td>\n",
       "      <td>0.553093</td>\n",
       "    </tr>\n",
       "    <tr>\n",
       "      <th>4</th>\n",
       "      <td>test_seq</td>\n",
       "      <td>4</td>\n",
       "      <td>0.29560044</td>\n",
       "    </tr>\n",
       "    <tr>\n",
       "      <th>5</th>\n",
       "      <td>test_seq</td>\n",
       "      <td>5</td>\n",
       "      <td>0.33615193</td>\n",
       "    </tr>\n",
       "    <tr>\n",
       "      <th>6</th>\n",
       "      <td>test_seq</td>\n",
       "      <td>6</td>\n",
       "      <td>0.59644955</td>\n",
       "    </tr>\n",
       "    <tr>\n",
       "      <th>7</th>\n",
       "      <td>test_seq</td>\n",
       "      <td>7</td>\n",
       "      <td>0.33142576</td>\n",
       "    </tr>\n",
       "    <tr>\n",
       "      <th>8</th>\n",
       "      <td>test_seq</td>\n",
       "      <td>8</td>\n",
       "      <td>0.6381159</td>\n",
       "    </tr>\n",
       "    <tr>\n",
       "      <th>9</th>\n",
       "      <td>test_seq</td>\n",
       "      <td>9</td>\n",
       "      <td>0.3224843</td>\n",
       "    </tr>\n",
       "    <tr>\n",
       "      <th>10</th>\n",
       "      <td>test_seq</td>\n",
       "      <td>10</td>\n",
       "      <td>0.47655964</td>\n",
       "    </tr>\n",
       "    <tr>\n",
       "      <th>11</th>\n",
       "      <td>test_seq</td>\n",
       "      <td>11</td>\n",
       "      <td>0.68698126</td>\n",
       "    </tr>\n",
       "    <tr>\n",
       "      <th>12</th>\n",
       "      <td>test_seq</td>\n",
       "      <td>12</td>\n",
       "      <td>0.52971977</td>\n",
       "    </tr>\n",
       "    <tr>\n",
       "      <th>13</th>\n",
       "      <td>test_seq</td>\n",
       "      <td>13</td>\n",
       "      <td>0.35268602</td>\n",
       "    </tr>\n",
       "    <tr>\n",
       "      <th>14</th>\n",
       "      <td>test_seq</td>\n",
       "      <td>14</td>\n",
       "      <td>0.66425353</td>\n",
       "    </tr>\n",
       "    <tr>\n",
       "      <th>15</th>\n",
       "      <td>test_seq</td>\n",
       "      <td>15</td>\n",
       "      <td>0.30258524</td>\n",
       "    </tr>\n",
       "  </tbody>\n",
       "</table>\n",
       "</div>"
      ],
      "text/plain": [
       "    Sequence Position       Score\n",
       "0   test_seq        0   0.3798483\n",
       "1   test_seq        1   0.4352925\n",
       "2   test_seq        2  0.15832752\n",
       "3   test_seq        3    0.553093\n",
       "4   test_seq        4  0.29560044\n",
       "5   test_seq        5  0.33615193\n",
       "6   test_seq        6  0.59644955\n",
       "7   test_seq        7  0.33142576\n",
       "8   test_seq        8   0.6381159\n",
       "9   test_seq        9   0.3224843\n",
       "10  test_seq       10  0.47655964\n",
       "11  test_seq       11  0.68698126\n",
       "12  test_seq       12  0.52971977\n",
       "13  test_seq       13  0.35268602\n",
       "14  test_seq       14  0.66425353\n",
       "15  test_seq       15  0.30258524"
      ]
     },
     "execution_count": 14,
     "metadata": {},
     "output_type": "execute_result"
    }
   ],
   "source": [
    "get_motif_score (\"test_seq\", test_seq, pssmKozak)"
   ]
  },
  {
   "cell_type": "code",
   "execution_count": 15,
   "metadata": {},
   "outputs": [],
   "source": [
    "# Function to calculate the score for each position in each sequence of a fasta file and output the df  \n",
    "def output_motif_score (motif, input_file, output_file):\n",
    "    df = pd.DataFrame(columns = ['Sequence', 'Position','Score'])\n",
    "    for seq_record in SeqIO.parse(input_file, \"fasta\"):\n",
    "        seq_record.seq.alphabet = IUPAC.unambiguous_dna\n",
    "        # score at all positions\n",
    "        s = calc_norm_score(motif, seq_record.seq)\n",
    "        position = 0\n",
    "        for x in np.nditer(s):\n",
    "            df = df.append({'Sequence': seq_record.id, \n",
    "                            'Position': position,\n",
    "                            'Score': x}, ignore_index=True)\n",
    "            position = position + 1 \n",
    "        df.to_csv (output_file, encoding ='utf-8', index = False)\n",
    "    return (df)"
   ]
  },
  {
   "cell_type": "code",
   "execution_count": 16,
   "metadata": {},
   "outputs": [],
   "source": [
    "# AssertAlmostEqual \n",
    "def AssertAlmostEqual(sequence, value):\n",
    "    score = calc_norm_score(pssmKozak, sequence)\n",
    "    alequal = isclose(score, value, abs_tol=1e-8)\n",
    "    return (alequal)"
   ]
  },
  {
   "cell_type": "code",
   "execution_count": 14,
   "metadata": {},
   "outputs": [
    {
     "data": {
      "text/plain": [
       "False"
      ]
     },
     "execution_count": 14,
     "metadata": {},
     "output_type": "execute_result"
    }
   ],
   "source": [
    "AssertAlmostEqual(test_antiKozak, 0)"
   ]
  },
  {
   "cell_type": "code",
   "execution_count": 17,
   "metadata": {},
   "outputs": [],
   "source": [
    "def AssertAlmostEqual1(sequence, value):\n",
    "    score = calc_norm_score( pssmKozak, sequence )\n",
    "    df = pd.DataFrame(columns = ['Sequence', 'Position','Score', 'AlmostEqual'])\n",
    "    position = 0\n",
    "    for score in np.nditer(s):\n",
    "        alequal = isclose(score,value, abs_tol=1e-7)\n",
    "        df = df.append({'Sequence': \"test_seq\", \n",
    "                    'Position': position,\n",
    "                    'Score': score,\n",
    "                    'AlmostEqual': alequal}, ignore_index=True)\n",
    "        position = position + 1 \n",
    "    return (df)"
   ]
  },
  {
   "cell_type": "code",
   "execution_count": 18,
   "metadata": {},
   "outputs": [
    {
     "data": {
      "text/html": [
       "<div>\n",
       "<style scoped>\n",
       "    .dataframe tbody tr th:only-of-type {\n",
       "        vertical-align: middle;\n",
       "    }\n",
       "\n",
       "    .dataframe tbody tr th {\n",
       "        vertical-align: top;\n",
       "    }\n",
       "\n",
       "    .dataframe thead th {\n",
       "        text-align: right;\n",
       "    }\n",
       "</style>\n",
       "<table border=\"1\" class=\"dataframe\">\n",
       "  <thead>\n",
       "    <tr style=\"text-align: right;\">\n",
       "      <th></th>\n",
       "      <th>Sequence</th>\n",
       "      <th>Position</th>\n",
       "      <th>Score</th>\n",
       "      <th>AlmostEqual</th>\n",
       "    </tr>\n",
       "  </thead>\n",
       "  <tbody>\n",
       "    <tr>\n",
       "      <th>0</th>\n",
       "      <td>test_seq</td>\n",
       "      <td>0</td>\n",
       "      <td>0.3798483</td>\n",
       "      <td>False</td>\n",
       "    </tr>\n",
       "    <tr>\n",
       "      <th>1</th>\n",
       "      <td>test_seq</td>\n",
       "      <td>1</td>\n",
       "      <td>0.4352925</td>\n",
       "      <td>False</td>\n",
       "    </tr>\n",
       "    <tr>\n",
       "      <th>2</th>\n",
       "      <td>test_seq</td>\n",
       "      <td>2</td>\n",
       "      <td>0.15832752</td>\n",
       "      <td>False</td>\n",
       "    </tr>\n",
       "    <tr>\n",
       "      <th>3</th>\n",
       "      <td>test_seq</td>\n",
       "      <td>3</td>\n",
       "      <td>0.553093</td>\n",
       "      <td>False</td>\n",
       "    </tr>\n",
       "    <tr>\n",
       "      <th>4</th>\n",
       "      <td>test_seq</td>\n",
       "      <td>4</td>\n",
       "      <td>0.29560044</td>\n",
       "      <td>False</td>\n",
       "    </tr>\n",
       "    <tr>\n",
       "      <th>5</th>\n",
       "      <td>test_seq</td>\n",
       "      <td>5</td>\n",
       "      <td>0.33615193</td>\n",
       "      <td>False</td>\n",
       "    </tr>\n",
       "    <tr>\n",
       "      <th>6</th>\n",
       "      <td>test_seq</td>\n",
       "      <td>6</td>\n",
       "      <td>0.59644955</td>\n",
       "      <td>False</td>\n",
       "    </tr>\n",
       "    <tr>\n",
       "      <th>7</th>\n",
       "      <td>test_seq</td>\n",
       "      <td>7</td>\n",
       "      <td>0.33142576</td>\n",
       "      <td>False</td>\n",
       "    </tr>\n",
       "    <tr>\n",
       "      <th>8</th>\n",
       "      <td>test_seq</td>\n",
       "      <td>8</td>\n",
       "      <td>0.6381159</td>\n",
       "      <td>False</td>\n",
       "    </tr>\n",
       "    <tr>\n",
       "      <th>9</th>\n",
       "      <td>test_seq</td>\n",
       "      <td>9</td>\n",
       "      <td>0.3224843</td>\n",
       "      <td>False</td>\n",
       "    </tr>\n",
       "    <tr>\n",
       "      <th>10</th>\n",
       "      <td>test_seq</td>\n",
       "      <td>10</td>\n",
       "      <td>0.47655964</td>\n",
       "      <td>False</td>\n",
       "    </tr>\n",
       "    <tr>\n",
       "      <th>11</th>\n",
       "      <td>test_seq</td>\n",
       "      <td>11</td>\n",
       "      <td>0.68698126</td>\n",
       "      <td>False</td>\n",
       "    </tr>\n",
       "    <tr>\n",
       "      <th>12</th>\n",
       "      <td>test_seq</td>\n",
       "      <td>12</td>\n",
       "      <td>0.52971977</td>\n",
       "      <td>False</td>\n",
       "    </tr>\n",
       "    <tr>\n",
       "      <th>13</th>\n",
       "      <td>test_seq</td>\n",
       "      <td>13</td>\n",
       "      <td>0.35268602</td>\n",
       "      <td>False</td>\n",
       "    </tr>\n",
       "    <tr>\n",
       "      <th>14</th>\n",
       "      <td>test_seq</td>\n",
       "      <td>14</td>\n",
       "      <td>0.66425353</td>\n",
       "      <td>False</td>\n",
       "    </tr>\n",
       "    <tr>\n",
       "      <th>15</th>\n",
       "      <td>test_seq</td>\n",
       "      <td>15</td>\n",
       "      <td>0.30258524</td>\n",
       "      <td>False</td>\n",
       "    </tr>\n",
       "  </tbody>\n",
       "</table>\n",
       "</div>"
      ],
      "text/plain": [
       "    Sequence Position       Score AlmostEqual\n",
       "0   test_seq        0   0.3798483       False\n",
       "1   test_seq        1   0.4352925       False\n",
       "2   test_seq        2  0.15832752       False\n",
       "3   test_seq        3    0.553093       False\n",
       "4   test_seq        4  0.29560044       False\n",
       "5   test_seq        5  0.33615193       False\n",
       "6   test_seq        6  0.59644955       False\n",
       "7   test_seq        7  0.33142576       False\n",
       "8   test_seq        8   0.6381159       False\n",
       "9   test_seq        9   0.3224843       False\n",
       "10  test_seq       10  0.47655964       False\n",
       "11  test_seq       11  0.68698126       False\n",
       "12  test_seq       12  0.52971977       False\n",
       "13  test_seq       13  0.35268602       False\n",
       "14  test_seq       14  0.66425353       False\n",
       "15  test_seq       15  0.30258524       False"
      ]
     },
     "execution_count": 18,
     "metadata": {},
     "output_type": "execute_result"
    }
   ],
   "source": [
    "AssertAlmostEqual1(test_seq, 0.3800000)"
   ]
  },
  {
   "cell_type": "code",
   "execution_count": 62,
   "metadata": {},
   "outputs": [],
   "source": [
    "# get_frame_score coputes the scores of the ATGs \n",
    "def get_frame_score (sequenceID, sequence, motifAtg, motifPssmKozak): \n",
    "    # Get the df with ATGs positions and frames \"sequence, ATGnumber, position, frame\"\n",
    "    dfFrame= get_pos_frame(\"test_seq\",sequence, motifAtg)\n",
    "    # Add the column score to dfFrame\n",
    "    dfFrame = dfFrame.assign(Score = 0.00000000)\n",
    "    # Get the df with score of posistions \"sequence, sequence, position, secore\"\n",
    "    dfScore = get_motif_score (\"test_seq\",sequence, motifPssmKozak)\n",
    "    # Get the positions from dfFrame\n",
    "    positions = dfFrame['Position'].values.tolist()\n",
    "    \n",
    "    # fill the column score score ATG = Score (A)+ Score (T) + Score (G) \n",
    "    for position in positions: \n",
    "        score = dfScore[(dfScore['Position'] == position)].at[position, 'Score'] + dfScore[(dfScore['Position'] == position+1)].at[position+1, 'Score'] + dfScore[(dfScore['Position'] == position+2)].at[position+2, 'Score']\n",
    "        dfFrame.loc[dfFrame.Position == position, 'Score'] = score\n",
    "    dfFrameScore = dfFrame\n",
    "    \n",
    "    return (dfFrameScore)"
   ]
  },
  {
   "cell_type": "code",
   "execution_count": 63,
   "metadata": {},
   "outputs": [
    {
     "data": {
      "text/html": [
       "<div>\n",
       "<style scoped>\n",
       "    .dataframe tbody tr th:only-of-type {\n",
       "        vertical-align: middle;\n",
       "    }\n",
       "\n",
       "    .dataframe tbody tr th {\n",
       "        vertical-align: top;\n",
       "    }\n",
       "\n",
       "    .dataframe thead th {\n",
       "        text-align: right;\n",
       "    }\n",
       "</style>\n",
       "<table border=\"1\" class=\"dataframe\">\n",
       "  <thead>\n",
       "    <tr style=\"text-align: right;\">\n",
       "      <th></th>\n",
       "      <th>Sequence</th>\n",
       "      <th>ATGNumber</th>\n",
       "      <th>Position</th>\n",
       "      <th>Frame</th>\n",
       "      <th>Score</th>\n",
       "    </tr>\n",
       "  </thead>\n",
       "  <tbody>\n",
       "    <tr>\n",
       "      <th>0</th>\n",
       "      <td>test_seq</td>\n",
       "      <td>1</td>\n",
       "      <td>1</td>\n",
       "      <td>1</td>\n",
       "      <td>1.146713</td>\n",
       "    </tr>\n",
       "    <tr>\n",
       "      <th>1</th>\n",
       "      <td>test_seq</td>\n",
       "      <td>2</td>\n",
       "      <td>4</td>\n",
       "      <td>1</td>\n",
       "      <td>1.228202</td>\n",
       "    </tr>\n",
       "  </tbody>\n",
       "</table>\n",
       "</div>"
      ],
      "text/plain": [
       "   Sequence ATGNumber Position Frame     Score\n",
       "0  test_seq         1        1     1  1.146713\n",
       "1  test_seq         2        4     1  1.228202"
      ]
     },
     "execution_count": 63,
     "metadata": {},
     "output_type": "execute_result"
    }
   ],
   "source": [
    "get_frame_score (\"test_seq\", test_seq, motifATG, pssmKozak)"
   ]
  },
  {
   "cell_type": "markdown",
   "metadata": {},
   "source": [
    "# Run the output_pos_frame with homologous species (ATGs and their positions)"
   ]
  },
  {
   "cell_type": "code",
   "execution_count": null,
   "metadata": {},
   "outputs": [],
   "source": [
    "# test the output_pos_frame function with 10 sequences from H99\n",
    "output_pos_frame ('Sequences/test_10_H99_CDS.fa','Output/ATG_pos_frame_species/test_10_ATG_pos_frame_H99_CDS.csv')"
   ]
  },
  {
   "cell_type": "code",
   "execution_count": null,
   "metadata": {},
   "outputs": [],
   "source": [
    "# output_pos_frame Ashbya_gossypii\n",
    "output_pos_frame ('Sequences/Ashbya_gossypii.ASM9102v1.cds.all.fa','Output/ATG_pos_frame_species/ATG_pos_frame_Ashbya_gossypii.ASM9102v1.cds.all.csv')"
   ]
  },
  {
   "cell_type": "code",
   "execution_count": null,
   "metadata": {},
   "outputs": [],
   "source": [
    "#output_pos_frame Aspergillus_nidulans\n",
    "output_pos_frame ('Sequences/Aspergillus_nidulans.ASM1142v1.cds.all.fa','Output/ATG_pos_frame_species/ATG_pos_frame_Aspergillus_nidulans.ASM1142v1.cds.all.csv')"
   ]
  },
  {
   "cell_type": "code",
   "execution_count": null,
   "metadata": {},
   "outputs": [],
   "source": [
    "#output_pos_frame Aspergillus_nidulans\n",
    "output_pos_frame ('Sequences/Aspergillus_nidulans.ASM1142v1.cds.all.fa','Output/ATG_pos_frame_species/ATG_pos_frame_Aspergillus_nidulans.ASM1142v1.cds.all.csv')"
   ]
  },
  {
   "cell_type": "code",
   "execution_count": null,
   "metadata": {},
   "outputs": [],
   "source": [
    "#output_pos_frame Aspergillus_nidulans\n",
    "output_pos_frame ('Sequences/Neosartorya_fischeri.CADRE.cds.all.fa','Output/ATG_pos_frame_species/ATG_pos_frame_Neosartorya_fischeri.CADRE.cds.all .csv')"
   ]
  },
  {
   "cell_type": "code",
   "execution_count": null,
   "metadata": {},
   "outputs": [],
   "source": [
    "#output_pos_frame Neurospora_crassa\n",
    "output_pos_frame ('Sequences/Neurospora_crassa.NC12.cds.all.fa','Output/ATG_pos_frame_species/ATG_pos_frame_Neurospora_crassa.NC12.cds.all.csv')"
   ]
  },
  {
   "cell_type": "markdown",
   "metadata": {},
   "source": [
    "# Run the output_motif_score with homologous species (pssmKozak score of each nucleotide) "
   ]
  },
  {
   "cell_type": "code",
   "execution_count": null,
   "metadata": {},
   "outputs": [],
   "source": [
    "output_motif_score (pssmKozak, '/media/amina/Elements/Computational biology projects/AltTranslationInitiation/Sequences/Ashbya_gossypii.ASM9102v1.cds.all.fa', '/media/amina/Elements/Computational biology projects/AltTranslationInitiation/Output/motif_score_species/motif_score_Ashbya_gossypii.ASM9102v1.cds.all.csv' )  "
   ]
  },
  {
   "cell_type": "code",
   "execution_count": null,
   "metadata": {},
   "outputs": [],
   "source": []
  }
 ],
 "metadata": {
  "kernelspec": {
   "display_name": "Python 3",
   "language": "python",
   "name": "python3"
  },
  "language_info": {
   "codemirror_mode": {
    "name": "ipython",
    "version": 3
   },
   "file_extension": ".py",
   "mimetype": "text/x-python",
   "name": "python",
   "nbconvert_exporter": "python",
   "pygments_lexer": "ipython3",
   "version": "3.6.4"
  }
 },
 "nbformat": 4,
 "nbformat_minor": 1
}
