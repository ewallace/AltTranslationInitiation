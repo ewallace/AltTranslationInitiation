{
 "cells": [
  {
   "cell_type": "code",
   "execution_count": 1,
   "metadata": {},
   "outputs": [],
   "source": [
    "import Bio # That's biopython \n",
    "from Bio import SeqIO # To read the sequences from the fasta files \n",
    "from Bio.Seq import Seq # To work with sequences as an object \n",
    "from Bio.SeqRecord import SeqRecord\n",
    "from Bio import motifs # motif library\n",
    "from Bio.Alphabet import IUPAC\n",
    "# Pandas' data structure libraries \n",
    "import pandas as pd \n",
    "import numpy as np\n"
   ]
  },
  {
   "cell_type": "code",
   "execution_count": 2,
   "metadata": {},
   "outputs": [
    {
     "name": "stdout",
     "output_type": "stream",
     "text": [
      "ATGCCTATG\n",
      "ATGCCCCCCC\n",
      "ATGCCCCCCGATG\n",
      "TATGATGTAGTATAATATAATTATAA\n",
      "CAAACAAAATG\n",
      "GGGGGTTTTCT\n"
     ]
    }
   ],
   "source": [
    "#  test sequences  \n",
    "Seq1 = Seq(\"ATGCCTATG\", IUPAC.IUPACUnambiguousDNA())  \n",
    "print (Seq1)\n",
    "Seq2 = Seq(\"ATGCCCCCCC\", IUPAC.IUPACUnambiguousDNA())\n",
    "print (Seq2)\n",
    "Seq3 = Seq(\"ATGCCCCCCGATG\", IUPAC.IUPACUnambiguousDNA()) \n",
    "print (Seq3)\n",
    "test_seq = Seq(\"TATGATGTAGTATAATATAATTATAA\", IUPAC.IUPACUnambiguousDNA())\n",
    "print test_seq\n",
    "test_Kozak = Seq(\"CAAACAAAATG\", IUPAC.IUPACUnambiguousDNA())\n",
    "print test_Kozak\n",
    "test_antiKozak = Seq(\"GGGGGTTTTCT\", IUPAC.IUPACUnambiguousDNA())\n",
    "print test_antiKozak"
   ]
  },
  {
   "cell_type": "code",
   "execution_count": 3,
   "metadata": {},
   "outputs": [
    {
     "name": "stdout",
     "output_type": "stream",
     "text": [
      "ATG\n",
      "\n"
     ]
    }
   ],
   "source": [
    "# Create a new object motif \"ATG\"\n",
    "motifATG = motifs.create( [ Seq(\"ATG\") ] )\n",
    "print(motifATG)"
   ]
  },
  {
   "cell_type": "code",
   "execution_count": 4,
   "metadata": {},
   "outputs": [
    {
     "name": "stdout",
     "output_type": "stream",
     "text": [
      "TF name\tNone\n",
      "Matrix ID\tNone\n",
      "Matrix:\n",
      "        0      1      2      3      4      5      6      7      8      9     10\n",
      "A:  60.00  90.00  70.00  80.00  80.00 160.00 110.00 110.00 200.00   0.00   0.00\n",
      "C:  70.00  60.00  50.00  50.00 100.00  10.00  60.00  60.00   0.00   0.00   0.00\n",
      "G:  10.00  10.00  30.00  20.00   5.00  25.00  15.00  15.00   0.00   0.00 200.00\n",
      "T:  60.00  40.00  50.00  50.00  15.00   5.00  15.00  15.00   0.00 200.00   0.00\n",
      "\n",
      "\n",
      "\n"
     ]
    }
   ],
   "source": [
    "#Create a new motif using kozak PFM distribution backround \n",
    "with open(\"PWMs/Kozak_PFM.txt\") as handle: \n",
    "        KozakMotif = motifs.read(handle, 'pfm')\n",
    "\n",
    "print (KozakMotif)"
   ]
  },
  {
   "cell_type": "code",
   "execution_count": 5,
   "metadata": {},
   "outputs": [
    {
     "name": "stdout",
     "output_type": "stream",
     "text": [
      "        0      1      2      3      4      5      6      7      8      9     10\n",
      "A:   0.30   0.45   0.35   0.40   0.40   0.79   0.55   0.55   0.99   0.00   0.00\n",
      "C:   0.35   0.30   0.25   0.25   0.50   0.05   0.30   0.30   0.00   0.00   0.00\n",
      "G:   0.05   0.05   0.15   0.10   0.03   0.13   0.08   0.08   0.00   0.00   0.99\n",
      "T:   0.30   0.20   0.25   0.25   0.08   0.03   0.08   0.08   0.00   0.99   0.00\n",
      "\n"
     ]
    }
   ],
   "source": [
    "# From KozakMotif to PWM motif, pseudocounts = ?  \n",
    "pwmKozak = KozakMotif.counts.normalize(pseudocounts=0.5)\n",
    "print(pwmKozak)"
   ]
  },
  {
   "cell_type": "code",
   "execution_count": 6,
   "metadata": {},
   "outputs": [
    {
     "name": "stdout",
     "output_type": "stream",
     "text": [
      "        0      1      2      3      4      5      6      7      8      9     10\n",
      "A:   0.26   0.84   0.48   0.67   0.67   1.67   1.13   1.13   1.99  -6.66  -6.66\n",
      "C:   0.48   0.26   0.00   0.00   0.99  -2.27   0.26   0.26  -6.66  -6.66  -6.66\n",
      "G:  -2.27  -2.27  -0.73  -1.30  -3.20  -0.99  -1.70  -1.70  -6.66  -6.66   1.99\n",
      "T:   0.26  -0.32   0.00   0.00  -1.70  -3.20  -1.70  -1.70  -6.66   1.99  -6.66\n",
      "\n"
     ]
    }
   ],
   "source": [
    "# From PwmMotif to pssmMotif using log_odds \n",
    "\n",
    "pssmKozak = pwmKozak.log_odds()\n",
    "print (pssmKozak)"
   ]
  },
  {
   "cell_type": "code",
   "execution_count": 7,
   "metadata": {},
   "outputs": [
    {
     "name": "stdout",
     "output_type": "stream",
     "text": [
      "[0.3798483  0.4352925  0.15832752 0.553093   0.29560044 0.33615193\n",
      " 0.59644955 0.33142576 0.6381159  0.3224843  0.47655964 0.68698126\n",
      " 0.52971977 0.35268602 0.66425353 0.30258524]\n",
      "1.0000000052353402\n",
      "2.3204725370384962e-08\n"
     ]
    }
   ],
   "source": [
    "# Normalized score function returns value between 0 and 1, like Bioconductor\n",
    "def calc_norm_score (pssm, seq) :\n",
    "    # import pdb; pdb.set_trace()\n",
    "    raw_score = pssm.calculate(seq)\n",
    "    score = ( raw_score - pssm.min ) / (pssm.max - pssm.min)\n",
    "    return ( score )\n",
    "\n",
    "print calc_norm_score( pssmKozak, test_seq ) # should be an array of numbers between 0 and 1\n",
    "print calc_norm_score( pssmKozak, test_Kozak ) # should be 1\n",
    "print calc_norm_score( pssmKozak, test_antiKozak ) # should be 0"
   ]
  },
  {
   "cell_type": "code",
   "execution_count": null,
   "metadata": {},
   "outputs": [],
   "source": [
    "# The function that calculates for a given sequence the ATGs, their position, their frames, and their score  \n",
    "def getpos (sequenceID, sequence, motifATG, pssmMotif):\n",
    "    index = 0\n",
    "    position = 0\n",
    "    frame = 0\n",
    "    score = 0\n",
    "    sequence.alphabet = IUPAC.unambiguous_dna\n",
    "    df = pd.DataFrame(columns = ['Sequence','ATGNumber','position','frame','score'])\n",
    "    for pos, seq in  motifATG.instances.search(sequence):\n",
    "        index = index + 1 \n",
    "        ATGNumber = index\n",
    "        position = pos\n",
    "        frame = pos % 3\n",
    "        score = pssmMotif.calculate(sequence)\n",
    "        #score = 0\n",
    "        #import pdb; pdb.set_trace()\n",
    "        df = df.append({'Sequence': sequenceID, # to check \n",
    "                'ATGNumber':ATGNumber,\n",
    "                'position':position,\n",
    "                'frame':frame,\n",
    "                'score':score}, ignore_index=True)\n",
    "               \n",
    "    #if (index == 1):\n",
    "     #   print(\"No other alternative frames!\")  \n",
    "    #frame = -1\n",
    "    #position = -1\n",
    "    #ATGNumber = index\n",
    "    return (df)"
   ]
  },
  {
   "cell_type": "code",
   "execution_count": null,
   "metadata": {},
   "outputs": [],
   "source": [
    "#test the getpos function with many sequences \n",
    "\n",
    "dfresult = pd.DataFrame(columns = ['Sequence','ATGNumber','position','frame', 'score'])\n",
    "for seq_record in SeqIO.parse(\"Crypto/H99_CDS.fa\", \"fasta\"):\n",
    "    df = getpos(seq_record.id, seq_record.seq, motifATG, pssmMotif)\n",
    "    dfresult = dfresult.append(df, ignore_index = True)\n",
    "   \n",
    "    dfresult.to_csv ('result.csv', encoding ='utf-8', index = False)"
   ]
  },
  {
   "cell_type": "code",
   "execution_count": null,
   "metadata": {},
   "outputs": [],
   "source": [
    "#  calculates for a given sequence the ATGs, their position and their frames\n",
    "index = 0\n",
    "position = 0\n",
    "frame = 0\n",
    "for pos, seq in  motifATG.instances.search(Seq1):\n",
    "    index = index +1 \n",
    "    print(\"%i %s\" % (pos, seq)) \n",
    "    ATGNumber = index\n",
    "    position = pos\n",
    "    frame = pos % 3\n",
    "    print (\"ATGNumber is %i\" % (ATGNumber))\n",
    "    print (\"position is %i\" % (position))\n",
    "    print(\"frame is %i\" % (frame))\n",
    "            \n",
    "if (index == 1):\n",
    "    print(\"no other frame\")  \n",
    "    frame = -1\n",
    "    position = -1\n",
    "    ATGNumber = index"
   ]
  },
  {
   "cell_type": "code",
   "execution_count": null,
   "metadata": {},
   "outputs": [],
   "source": [
    "# find the second instance of the motif and its location\n",
    "index = 0\n",
    "position = 0\n",
    "frame = 0\n",
    "for pos, seq in  motifATG.instances.search(Seq1):\n",
    "    index = index +1 \n",
    "    print(index) \n",
    "    print(\"%i %s\" % (pos, seq))\n",
    "    if (index==2):  \n",
    "        frame = pos % 3 \n",
    "        position = pos\n",
    "        break  \n",
    "if (index == 1):\n",
    "    print(\"no frame\")  \n",
    "    frame = -1\n",
    "    position = -1\n",
    " \n",
    "print(\"frame is %i\" % (frame))\n",
    "print ((\"position is %i\" % (position)))"
   ]
  },
  {
   "cell_type": "code",
   "execution_count": null,
   "metadata": {},
   "outputs": [],
   "source": [
    "# basic motif search \n",
    "for pos, seq in  motif1.instances.search(Seq1): \n",
    "    print(\"%i %s\" % (pos, seq))"
   ]
  },
  {
   "cell_type": "code",
   "execution_count": null,
   "metadata": {},
   "outputs": [],
   "source": [
    "# Parse a fasta file\n",
    "for seq_record in SeqIO.parse(\"InputTestSeq.fasta\", \"fasta\"):\n",
    "    print(seq_record.id)\n",
    "    print(repr(seq_record.seq))\n",
    "    print(len(seq_record))\n",
    "    getpos2(seq_record.seq,motifATG,verbose=False)"
   ]
  },
  {
   "cell_type": "code",
   "execution_count": null,
   "metadata": {},
   "outputs": [],
   "source": [
    "# Write the output text file that contains the frame and position values \n",
    "with open(\"ATGposTestSeq.txt\",\"w\") as output_file :\n",
    "    output_file.write(\"Seq\\tPos\\tFrame\\n\")\n",
    "    for seq_record in SeqIO.parse(\"InputTestSeq.fasta\", \"fasta\"):\n",
    "        posframe = getpos2(seq_record.seq,motifATG,verbose=False)\n",
    "        output_file.write(seq_record.id + \"\\t\" + str(posframe[0]) + \"\\t\" + str(posframe[1]) + \"\\n\")"
   ]
  },
  {
   "cell_type": "code",
   "execution_count": null,
   "metadata": {},
   "outputs": [],
   "source": [
    "# The function OutputPosFrame takes a Fasta file containing sequences and writes a txt file containing the position of the \n",
    "#alternative translation initiation and the frame  \n",
    "def OutputPosFrame (input_file): \n",
    "    for seq_record in SeqIO.parse(input_file, \"fasta\"):\n",
    "        getpos2(seq_record.seq,motifATG,verbose=False)\n",
    "    \n",
    "    with open(\"ATGposCandida_albicans_sc5314.Cand_albi_SC5314_V4.cds.all.txt\",\"w\") as output_file :\n",
    "        output_file.write(\"Seq\\tPos\\tFrame\\n\")\n",
    "        for seq_record in SeqIO.parse(input_file, \"fasta\"):\n",
    "            posframe = getpos2(seq_record.seq,motifATG,verbose=False)\n",
    "            output_file.write(seq_record.id + \"\\t\" + str(posframe[0]) + \"\\t\" + str(posframe[1]) + \"\\n\")\n",
    "    return (output_file)"
   ]
  },
  {
   "cell_type": "code",
   "execution_count": null,
   "metadata": {},
   "outputs": [],
   "source": [
    "OutputPosFrame (\"InputTestSeq.fasta\")"
   ]
  },
  {
   "cell_type": "code",
   "execution_count": null,
   "metadata": {},
   "outputs": [],
   "source": [
    "OutputPosFrame (\"Homologus fungal/Candida_albicans_sc5314.Cand_albi_SC5314_V4.cds.all.fa\")"
   ]
  },
  {
   "cell_type": "code",
   "execution_count": null,
   "metadata": {},
   "outputs": [],
   "source": [
    "# The function OutputPosFrame takes a Fasta file containing sequences and writes a txt file containing the position of the \n",
    "#alternative translation initiation and the frame  \n",
    "def OutputPosFrame (input_file): \n",
    "    for seq_record in SeqIO.parse(input_file, \"fasta\"):\n",
    "        getpos2(seq_record.seq,motifATG,verbose=False)\n",
    "    \n",
    "    with open(\"ATGposCryptoJEC21Seq.txt\",\"w\") as output_file :\n",
    "        output_file.write(\"Seq\\t\\tPos\\tFrame\\n\")\n",
    "        for seq_record in SeqIO.parse(input_file, \"fasta\"):\n",
    "            posframe = getpos2(seq_record.seq,motifATG,verbose=False)\n",
    "            output_file.write(seq_record.id + \"\\t\" + str(posframe[0]) + \"\\t\" + str(posframe[1]) + \"\\n\")\n",
    "    return (output_file)"
   ]
  },
  {
   "cell_type": "code",
   "execution_count": null,
   "metadata": {},
   "outputs": [],
   "source": [
    "df = pd.DataFrame(columns = ['Sequence','ATGNumber','position','frame'])\n",
    "index = 0\n",
    "position = 0\n",
    "frame = 0\n",
    "for pos, seq in  motifATG.instances.search(Seq3):\n",
    "    index = index +1\n",
    "    if (index == 1):\n",
    "        frame = -1\n",
    "        position = -1\n",
    "        ATGNumber = index\n",
    "    else:\n",
    "        ATGNumber = index\n",
    "        position = pos\n",
    "        frame = pos % 3\n",
    "    df = df.append({'Sequence': 'Seq',\n",
    "                'ATGNumber': ATGNumber,\n",
    "                'position':position,\n",
    "                'frame': frame}, ignore_index=True)\n",
    "            \n",
    "#if (index == 1):\n",
    " #   print(\"No alternative frames!\")  \n",
    "    #frame = -1\n",
    "    #position = -1\n",
    "    #ATGNumber = index\n",
    " \n",
    "df"
   ]
  },
  {
   "cell_type": "code",
   "execution_count": null,
   "metadata": {},
   "outputs": [],
   "source": [
    "df.to_csv ('result.csv', encoding ='utf-8', index = False)"
   ]
  },
  {
   "cell_type": "code",
   "execution_count": null,
   "metadata": {},
   "outputs": [],
   "source": [
    "dfresult = pd.DataFrame(columns = ['Sequence','ATGNumber','position','frame'])\n",
    "\n",
    "df1 = getpos(Seq1,motifATG)\n",
    "print (df1)\n",
    "dfresult = dfresult.append(df1, ignore_index = True)\n",
    "\n",
    "df2 = getpos(Seq2,motifATG)\n",
    "print (df2)\n",
    "\n",
    "dfresult = dfresult.append(df2, ignore_index = True)\n",
    "\n",
    "df3 = getpos (Seq3, motifATG)\n",
    "print (df3)\n",
    "dfresult = dfresult.append(df3, ignore_index = True) \n",
    "\n",
    "\n",
    "dfresult\n",
    "\n",
    "\n",
    "#df1 = df1.append(df2, ignore_index = True)\n",
    "\n",
    "#df1 = df1.append (df3, ignore_index = True)"
   ]
  },
  {
   "cell_type": "code",
   "execution_count": null,
   "metadata": {},
   "outputs": [],
   "source": [
    "# getpos function from the fasta file \n",
    "dfresult = pd.DataFrame(columns = ['Sequence','ATGNumber','position','frame', 'score'])\n",
    "for seq_record in SeqIO.parse(\"InputTestSeq.fasta\", \"fasta\"):\n",
    "    df = getpos(seq_record.seq, motifATG)\n",
    "    dfresult = dfresult.append(df, ignore_index = True)\n",
    "   \n",
    "    #finalf.to_csv ('result.csv', encoding ='utf-8', index = False)\n",
    "dfresult\n",
    "    \n",
    "    #tf.to_csv ('result.csv', encoding ='utf-8', index = False)\n",
    "    #print(seq_record.id)\n",
    "    #print(repr(seq_record.seq))\n",
    "    #print(len(seq_record))"
   ]
  },
  {
   "cell_type": "code",
   "execution_count": null,
   "metadata": {},
   "outputs": [],
   "source": [
    "# The function that calculates for a given sequence the ATGs, their position and their frames, and their score  \n",
    "def getpos (sequence, motif):\n",
    "    index = 0\n",
    "    position = 0\n",
    "    frame = 0\n",
    "    df = pd.DataFrame(columns = ['Sequence','ATGNumber','position','frame','score'])\n",
    "    for pos, seq in  motifATG.instances.search(sequence):\n",
    "        index = index + 1 \n",
    "        ATGNumber = index\n",
    "        position = pos\n",
    "        frame = pos % 3\n",
    "        score = pssmMotif.calculate(sequence)\n",
    "        #score = 0\n",
    "        #import pdb; pdb.set_trace()\n",
    "        df = df.append({'Sequence': sequence, # to check \n",
    "                'ATGNumber':ATGNumber,\n",
    "                'position':position,\n",
    "                'frame':frame,\n",
    "                'score':score}, ignore_index=True)\n",
    "               \n",
    "    #if (index == 1):\n",
    "     #   print(\"No other alternative frames!\")  \n",
    "    #frame = -1\n",
    "    #position = -1\n",
    "    #ATGNumber = index\n",
    "    return (df)"
   ]
  },
  {
   "cell_type": "code",
   "execution_count": null,
   "metadata": {},
   "outputs": [],
   "source": []
  }
 ],
 "metadata": {
  "kernelspec": {
   "display_name": "Python 2",
   "language": "python",
   "name": "python2"
  },
  "language_info": {
   "codemirror_mode": {
    "name": "ipython",
    "version": 2
   },
   "file_extension": ".py",
   "mimetype": "text/x-python",
   "name": "python",
   "nbconvert_exporter": "python",
   "pygments_lexer": "ipython2",
   "version": "2.7.13"
  }
 },
 "nbformat": 4,
 "nbformat_minor": 1
}
